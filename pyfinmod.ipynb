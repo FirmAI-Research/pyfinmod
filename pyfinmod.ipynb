{
 "cells": [
  {
   "cell_type": "markdown",
   "metadata": {},
   "source": [
    "# Basic Financial Calculations"
   ]
  },
  {
   "cell_type": "markdown",
   "metadata": {},
   "source": [
    "In this post I'll cover:\n",
    "\n",
    "- Net present value (NPV)\n",
    "- Internal rate of return (IRR)\n",
    "- Payment schedules and loan tables\n",
    "- Future value\n",
    "- Pension and accumulation problems\n",
    "- Continuously compounded interest"
   ]
  },
  {
   "cell_type": "markdown",
   "metadata": {},
   "source": [
    "## Net present value "
   ]
  },
  {
   "cell_type": "markdown",
   "metadata": {},
   "source": [
    "Present value allows to answer a simple question \"should I put my money in the bank or invest\". Let's say I have \\$100 and bank gives 12% annual interest rate (1% per month). Alternatively I can lend this money to a friend and he promises to pay \\$10 for 12 month. Moral aspect aside NPV gives an answer which alternative is more profitable.  "
   ]
  },
  {
   "cell_type": "markdown",
   "metadata": {},
   "source": [
    "Second alternative can be described as a series of cash flows: \n",
    "    - -\\$100 at month=0\n",
    "    - +\\$10 at month=1\n",
    "    ...\n",
    "    - +\\$10 at month=12"
   ]
  },
  {
   "cell_type": "code",
   "execution_count": 1,
   "metadata": {},
   "outputs": [
    {
     "data": {
      "text/html": [
       "<div>\n",
       "<style scoped>\n",
       "    .dataframe tbody tr th:only-of-type {\n",
       "        vertical-align: middle;\n",
       "    }\n",
       "\n",
       "    .dataframe tbody tr th {\n",
       "        vertical-align: top;\n",
       "    }\n",
       "\n",
       "    .dataframe thead th {\n",
       "        text-align: right;\n",
       "    }\n",
       "</style>\n",
       "<table border=\"1\" class=\"dataframe\">\n",
       "  <thead>\n",
       "    <tr style=\"text-align: right;\">\n",
       "      <th></th>\n",
       "      <th>cash flow</th>\n",
       "      <th>date</th>\n",
       "    </tr>\n",
       "  </thead>\n",
       "  <tbody>\n",
       "    <tr>\n",
       "      <th>0</th>\n",
       "      <td>-100</td>\n",
       "      <td>2018-12-13</td>\n",
       "    </tr>\n",
       "    <tr>\n",
       "      <th>1</th>\n",
       "      <td>10</td>\n",
       "      <td>2019-01-13</td>\n",
       "    </tr>\n",
       "    <tr>\n",
       "      <th>2</th>\n",
       "      <td>10</td>\n",
       "      <td>2019-02-13</td>\n",
       "    </tr>\n",
       "    <tr>\n",
       "      <th>3</th>\n",
       "      <td>10</td>\n",
       "      <td>2019-03-13</td>\n",
       "    </tr>\n",
       "    <tr>\n",
       "      <th>4</th>\n",
       "      <td>10</td>\n",
       "      <td>2019-04-13</td>\n",
       "    </tr>\n",
       "    <tr>\n",
       "      <th>5</th>\n",
       "      <td>10</td>\n",
       "      <td>2019-05-13</td>\n",
       "    </tr>\n",
       "    <tr>\n",
       "      <th>6</th>\n",
       "      <td>10</td>\n",
       "      <td>2019-06-13</td>\n",
       "    </tr>\n",
       "    <tr>\n",
       "      <th>7</th>\n",
       "      <td>10</td>\n",
       "      <td>2019-07-13</td>\n",
       "    </tr>\n",
       "    <tr>\n",
       "      <th>8</th>\n",
       "      <td>10</td>\n",
       "      <td>2019-08-13</td>\n",
       "    </tr>\n",
       "    <tr>\n",
       "      <th>9</th>\n",
       "      <td>10</td>\n",
       "      <td>2019-09-13</td>\n",
       "    </tr>\n",
       "    <tr>\n",
       "      <th>10</th>\n",
       "      <td>10</td>\n",
       "      <td>2019-10-13</td>\n",
       "    </tr>\n",
       "    <tr>\n",
       "      <th>11</th>\n",
       "      <td>10</td>\n",
       "      <td>2019-11-13</td>\n",
       "    </tr>\n",
       "    <tr>\n",
       "      <th>12</th>\n",
       "      <td>10</td>\n",
       "      <td>2019-12-13</td>\n",
       "    </tr>\n",
       "  </tbody>\n",
       "</table>\n",
       "</div>"
      ],
      "text/plain": [
       "    cash flow        date\n",
       "0        -100  2018-12-13\n",
       "1          10  2019-01-13\n",
       "2          10  2019-02-13\n",
       "3          10  2019-03-13\n",
       "4          10  2019-04-13\n",
       "5          10  2019-05-13\n",
       "6          10  2019-06-13\n",
       "7          10  2019-07-13\n",
       "8          10  2019-08-13\n",
       "9          10  2019-09-13\n",
       "10         10  2019-10-13\n",
       "11         10  2019-11-13\n",
       "12         10  2019-12-13"
      ]
     },
     "execution_count": 1,
     "metadata": {},
     "output_type": "execute_result"
    }
   ],
   "source": [
    "import pandas as pd\n",
    "from datetime import date, timedelta\n",
    "from dateutil.relativedelta import relativedelta\n",
    "\n",
    "df = pd.DataFrame(data={'cash flow': [-100] + [10]*12, 'date':[date.today() + relativedelta(months=i) for i in range(13) ]})\n",
    "\n",
    "df"
   ]
  },
  {
   "cell_type": "code",
   "execution_count": 17,
   "metadata": {},
   "outputs": [
    {
     "name": "stdout",
     "output_type": "stream",
     "text": [
      "Help on class relativedelta in module dateutil.relativedelta:\n",
      "\n",
      "class relativedelta(builtins.object)\n",
      " |  The relativedelta type is based on the specification of the excellent\n",
      " |  work done by M.-A. Lemburg in his\n",
      " |  `mx.DateTime <https://www.egenix.com/products/python/mxBase/mxDateTime/>`_ extension.\n",
      " |  However, notice that this type does *NOT* implement the same algorithm as\n",
      " |  his work. Do *NOT* expect it to behave like mx.DateTime's counterpart.\n",
      " |  \n",
      " |  There are two different ways to build a relativedelta instance. The\n",
      " |  first one is passing it two date/datetime classes::\n",
      " |  \n",
      " |      relativedelta(datetime1, datetime2)\n",
      " |  \n",
      " |  The second one is passing it any number of the following keyword arguments::\n",
      " |  \n",
      " |      relativedelta(arg1=x,arg2=y,arg3=z...)\n",
      " |  \n",
      " |      year, month, day, hour, minute, second, microsecond:\n",
      " |          Absolute information (argument is singular); adding or subtracting a\n",
      " |          relativedelta with absolute information does not perform an arithmetic\n",
      " |          operation, but rather REPLACES the corresponding value in the\n",
      " |          original datetime with the value(s) in relativedelta.\n",
      " |  \n",
      " |      years, months, weeks, days, hours, minutes, seconds, microseconds:\n",
      " |          Relative information, may be negative (argument is plural); adding\n",
      " |          or subtracting a relativedelta with relative information performs\n",
      " |          the corresponding aritmetic operation on the original datetime value\n",
      " |          with the information in the relativedelta.\n",
      " |  \n",
      " |      weekday: \n",
      " |          One of the weekday instances (MO, TU, etc). These\n",
      " |          instances may receive a parameter N, specifying the Nth\n",
      " |          weekday, which could be positive or negative (like MO(+1)\n",
      " |          or MO(-2). Not specifying it is the same as specifying\n",
      " |          +1. You can also use an integer, where 0=MO. Notice that\n",
      " |          if the calculated date is already Monday, for example,\n",
      " |          using MO(1) or MO(-1) won't change the day.\n",
      " |  \n",
      " |      leapdays:\n",
      " |          Will add given days to the date found, if year is a leap\n",
      " |          year, and the date found is post 28 of february.\n",
      " |  \n",
      " |      yearday, nlyearday:\n",
      " |          Set the yearday or the non-leap year day (jump leap days).\n",
      " |          These are converted to day/month/leapdays information.\n",
      " |  \n",
      " |  There are relative and absolute forms of the keyword\n",
      " |  arguments. The plural is relative, and the singular is\n",
      " |  absolute. For each argument in the order below, the absolute form\n",
      " |  is applied first (by setting each attribute to that value) and\n",
      " |  then the relative form (by adding the value to the attribute).\n",
      " |  \n",
      " |  The order of attributes considered when this relativedelta is\n",
      " |  added to a datetime is:\n",
      " |  \n",
      " |  1. Year\n",
      " |  2. Month\n",
      " |  3. Day\n",
      " |  4. Hours\n",
      " |  5. Minutes\n",
      " |  6. Seconds\n",
      " |  7. Microseconds\n",
      " |  \n",
      " |  Finally, weekday is applied, using the rule described above.\n",
      " |  \n",
      " |  For example\n",
      " |  \n",
      " |  >>> dt = datetime(2018, 4, 9, 13, 37, 0)\n",
      " |  >>> delta = relativedelta(hours=25, day=1, weekday=MO(1))\n",
      " |  datetime(2018, 4, 2, 14, 37, 0)\n",
      " |  \n",
      " |  First, the day is set to 1 (the first of the month), then 25 hours\n",
      " |  are added, to get to the 2nd day and 14th hour, finally the\n",
      " |  weekday is applied, but since the 2nd is already a Monday there is\n",
      " |  no effect.\n",
      " |  \n",
      " |  Methods defined here:\n",
      " |  \n",
      " |  __abs__(self)\n",
      " |  \n",
      " |  __add__(self, other)\n",
      " |  \n",
      " |  __bool__(self)\n",
      " |  \n",
      " |  __div__(self, other)\n",
      " |  \n",
      " |  __eq__(self, other)\n",
      " |      Return self==value.\n",
      " |  \n",
      " |  __hash__(self)\n",
      " |      Return hash(self).\n",
      " |  \n",
      " |  __init__(self, dt1=None, dt2=None, years=0, months=0, days=0, leapdays=0, weeks=0, hours=0, minutes=0, seconds=0, microseconds=0, year=None, month=None, day=None, weekday=None, yearday=None, nlyearday=None, hour=None, minute=None, second=None, microsecond=None)\n",
      " |      Initialize self.  See help(type(self)) for accurate signature.\n",
      " |  \n",
      " |  __mul__(self, other)\n",
      " |  \n",
      " |  __ne__(self, other)\n",
      " |      Return self!=value.\n",
      " |  \n",
      " |  __neg__(self)\n",
      " |  \n",
      " |  __nonzero__ = __bool__(self)\n",
      " |  \n",
      " |  __radd__(self, other)\n",
      " |  \n",
      " |  __repr__(self)\n",
      " |      Return repr(self).\n",
      " |  \n",
      " |  __rmul__ = __mul__(self, other)\n",
      " |  \n",
      " |  __rsub__(self, other)\n",
      " |  \n",
      " |  __sub__(self, other)\n",
      " |  \n",
      " |  __truediv__ = __div__(self, other)\n",
      " |  \n",
      " |  normalized(self)\n",
      " |      Return a version of this object represented entirely using integer\n",
      " |      values for the relative attributes.\n",
      " |      \n",
      " |      >>> relativedelta(days=1.5, hours=2).normalized()\n",
      " |      relativedelta(days=1, hours=14)\n",
      " |      \n",
      " |      :return:\n",
      " |          Returns a :class:`dateutil.relativedelta.relativedelta` object.\n",
      " |  \n",
      " |  ----------------------------------------------------------------------\n",
      " |  Data descriptors defined here:\n",
      " |  \n",
      " |  __dict__\n",
      " |      dictionary for instance variables (if defined)\n",
      " |  \n",
      " |  __weakref__\n",
      " |      list of weak references to the object (if defined)\n",
      " |  \n",
      " |  weeks\n",
      "\n"
     ]
    }
   ],
   "source": [
    "help(relativedelta)"
   ]
  },
  {
   "cell_type": "markdown",
   "metadata": {},
   "source": [
    "At each period value should be adjusted by the interest rate (also called the discount rate) using formula \n",
    "![npv](http://www.sciweavers.org/tex2img.php?eq=%5Cfrac%7BCF_%7Bt%7D%20%7D%7B%20%281%20%2B%20r%29%5E%7Bt%7D%20%7D&bc=White&fc=Black&im=jpg&fs=12&ff=arev&edit=0)\n",
    "This basic concept shows that \\$100 now is not the same as \\$100 promised in a year. \\$100 now is $110 in a year.\n",
    "To calcualte discounted value I'll conver annual discount (interest) rate to daily and use the number of days elapsed as *t*  "
   ]
  },
  {
   "cell_type": "code",
   "execution_count": 2,
   "metadata": {},
   "outputs": [
    {
     "data": {
      "text/plain": [
       "(0.09953533203843645, 0.00026115787606784124)"
      ]
     },
     "execution_count": 2,
     "metadata": {},
     "output_type": "execute_result"
    }
   ],
   "source": [
    "def _annual_to_daily_ir(annual_interest_rate):\n",
    "    return (1 + annual_interest_rate)**(1/365) - 1\n",
    "\n",
    "def _daily_to_annual_ir(daily_interest_rate):\n",
    "    return (1 + daily_interest_rate)**365 - 1\n",
    "\n",
    "def _calculate_discounted(cf, annual_interest_rate, days_passed):\n",
    "    daily_interest_rate = convert_ir(annual_interest_rate, from_period='year', to_period='day')\n",
    "    return cf / (1 + daily_interest_rate)**days_passed\n",
    "_daily_to_annual_ir(0.00026), _annual_to_daily_ir(0.1)"
   ]
  },
  {
   "cell_type": "code",
   "execution_count": 3,
   "metadata": {},
   "outputs": [
    {
     "data": {
      "text/plain": [
       "52.14285714285714"
      ]
     },
     "execution_count": 3,
     "metadata": {},
     "output_type": "execute_result"
    }
   ],
   "source": [
    "days_in_year = 365\n",
    "month_in_year = 12\n",
    "quaters_in_year = 4\n",
    "month_in_quater = 3\n",
    "days_in_week = 7\n",
    "1/(days_in_week/days_in_year)"
   ]
  },
  {
   "cell_type": "code",
   "execution_count": 4,
   "metadata": {},
   "outputs": [
    {
     "data": {
      "text/plain": [
       "(0.00026115787606784124, 0.02411368908444511)"
      ]
     },
     "execution_count": 4,
     "metadata": {},
     "output_type": "execute_result"
    }
   ],
   "source": [
    "def convert_ir(r, from_period='year', to_period='day'):\n",
    "    days_in_year = 365\n",
    "    month_in_year = 12\n",
    "    quaters_in_year = 4\n",
    "    month_in_quater = 3\n",
    "    days_in_week = 7\n",
    "    powers = {'year': {'day': 1/days_in_year,\n",
    "                       'week': days_in_week/days_in_year,\n",
    "                       'month': 1/month_in_year,\n",
    "                       'quater': 1/quaters_in_year,\n",
    "                       'year': 1},\n",
    "              'quater': {'day': 1/(days_in_year/quaters_in_year),\n",
    "                         'week': 1/(days_in_year/quaters_in_year/days_in_week),\n",
    "                         'month': 1/month_in_quater,\n",
    "                         'quater': 1,\n",
    "                         'year': quaters_in_year},\n",
    "              'month': {'day': 1/(days_in_year/month_in_year),\n",
    "                        'week': 1/(days_in_year/month_in_year/days_in_week),\n",
    "                        'month': 1,\n",
    "                        'quater': month_in_quater,\n",
    "                        'year': month_in_year},\n",
    "              'week': {'day': 1/days_in_week,\n",
    "                       'week': 1,\n",
    "                       'month': days_in_year/month_in_year/days_in_week,\n",
    "                       'quater':days_in_year/quaters_in_year/days_in_week,\n",
    "                       'year': days_in_year/days_in_week},\n",
    "              'day': {'day': 1,\n",
    "                      'week': days_in_week,\n",
    "                      'month': days_in_year/month_in_year,\n",
    "                      'quater': days_in_year/quaters_in_year,\n",
    "                      'year': days_in_year}}\n",
    "    return (1 + r)**(powers[from_period][to_period]) - 1\n",
    "convert_ir(0.1), convert_ir(0.1, 'year', 'quater')"
   ]
  },
  {
   "cell_type": "markdown",
   "metadata": {},
   "source": [
    "To calculate NPV I'll sum up all discounted values at each *t*:"
   ]
  },
  {
   "cell_type": "code",
   "execution_count": 5,
   "metadata": {},
   "outputs": [
    {
     "data": {
      "text/plain": [
       "14.011086147172053"
      ]
     },
     "execution_count": 5,
     "metadata": {},
     "output_type": "execute_result"
    }
   ],
   "source": [
    "#def npv(df, cash_flow_column_name, annual_discount_rate):\n",
    "cash_flow_column_name = 'cash flow'\n",
    "date_column_name = 'date'\n",
    "annual_discount_rate = 0.1\n",
    "def npv(dataframe, annual_discount_rate, cash_flow_column_name='cash flow', date_column_name='date'):\n",
    "    date_start = dataframe[date_column_name].min()\n",
    "    mapper = lambda x: _calculate_discounted(x[cash_flow_column_name], \n",
    "                                             annual_discount_rate, \n",
    "                                             (x[date_column_name] - date_start).days)\n",
    "    return dataframe[[cash_flow_column_name, date_column_name]].apply(mapper, axis=1).sum()\n",
    "npv(df, 0.1)"
   ]
  },
  {
   "cell_type": "markdown",
   "metadata": {},
   "source": [
    "The calcualted NPV of lending alternative is ~\\$14 which means that lending to a friend is profitable. This value represents your wealth increment.  Companies use NPV\n",
    "to calculate if it's, for example, vialble to invest in a factory that will generate cash flows in a future or it's better to put money elsewhere."
   ]
  },
  {
   "cell_type": "markdown",
   "metadata": {},
   "source": [
    "`npv` function can also operate with time-dated cash flows. "
   ]
  },
  {
   "cell_type": "code",
   "execution_count": 6,
   "metadata": {},
   "outputs": [
    {
     "data": {
      "text/plain": [
       "129.00343883282264"
      ]
     },
     "execution_count": 6,
     "metadata": {},
     "output_type": "execute_result"
    }
   ],
   "source": [
    "# this is a test from a book\n",
    "df1 = pd.DataFrame(data={'cash flow': [-250] + [100]*5, 'date':[date.today() + relativedelta(years=i) for i in range(6) ]})\n",
    "npv(df1, 0.1)"
   ]
  },
  {
   "cell_type": "markdown",
   "metadata": {},
   "source": [
    "## Internal rate of returns"
   ]
  },
  {
   "cell_type": "markdown",
   "metadata": {},
   "source": [
    "So I decided to lend to a friend. What is the effective interest rate for this alternative? Interal rate of returns \n",
    "(IRR) answers that. The solution of the following equation for *r* gives IRR:\n",
    "    ![irr](http://www.sciweavers.org/tex2img.php?eq=CF_%7B0%7D%20%2B%20%5Csum_%7Bt%3D1%7D%5E%7BN%7D%20%5Cfrac%7BCF_%7Bt%7D%20%7D%7B%281%20%2B%20r%29%5E%7Bt%7D%20%7D%20%3D%200&bc=White&fc=Black&im=jpg&fs=12&ff=arev&edit=0)\n",
    "    \n",
    "Effectively we are finding interest rate when NPV is 0."
   ]
  },
  {
   "cell_type": "code",
   "execution_count": 7,
   "metadata": {},
   "outputs": [],
   "source": [
    "from scipy.optimize import fsolve"
   ]
  },
  {
   "cell_type": "code",
   "execution_count": 8,
   "metadata": {},
   "outputs": [
    {
     "data": {
      "text/plain": [
       "([0.41354120272404077], [0.22142234649016324])"
      ]
     },
     "execution_count": 8,
     "metadata": {},
     "output_type": "execute_result"
    }
   ],
   "source": [
    "from functools import partial\n",
    "def irr(dataframe, guess=0, cash_flow_column_name='cash flow', date_column_name='date'):\n",
    "    f = partial(npv, dataframe, cash_flow_column_name=cash_flow_column_name)\n",
    "    result = fsolve(f, guess)\n",
    "    return list(result)\n",
    "    \n",
    "df2 = pd.DataFrame(data={'cash flow': [-800, 200, 250, 300, 350, 400], 'date':[date.today() + relativedelta(years=i) for i in range(6) ]})\n",
    "irr(df, 0.0), irr(df2, 0.0)"
   ]
  },
  {
   "cell_type": "markdown",
   "metadata": {},
   "source": [
    "Lending to a friend has an effetive interest rate of 41%"
   ]
  },
  {
   "cell_type": "markdown",
   "metadata": {},
   "source": [
    "Sometimes series of cash flows can have more than one IRR. *Guess* parameter is the initial gussed value to solve the equation. We can play with it to find both solutions. "
   ]
  },
  {
   "cell_type": "code",
   "execution_count": 9,
   "metadata": {},
   "outputs": [
    {
     "data": {
      "text/plain": [
       "([0.08793680470699422], [0.26585705483081506])"
      ]
     },
     "execution_count": 9,
     "metadata": {},
     "output_type": "execute_result"
    }
   ],
   "source": [
    "df3 = pd.DataFrame(data={'cash flow': [-145, 100, 100, 100, 100, -275], 'date':[date.today() + relativedelta(years=i) for i in range(6) ]})\n",
    "irr(df3, 0.1), irr(df3, 0.4)"
   ]
  },
  {
   "cell_type": "code",
   "execution_count": 10,
   "metadata": {},
   "outputs": [
    {
     "data": {
      "text/plain": [
       "8.333333333333334"
      ]
     },
     "execution_count": 10,
     "metadata": {},
     "output_type": "execute_result"
    }
   ],
   "source": [
    "100/12"
   ]
  },
  {
   "cell_type": "markdown",
   "metadata": {},
   "source": [
    "## Flat payment schedules"
   ]
  },
  {
   "cell_type": "markdown",
   "metadata": {},
   "source": [
    "Let's look at the lending problems from the friends point. He knows that with the cash flow he proposed he will be paying 41% annual interest rate. He wants to lower the interest rate to say 30% and calculates new flat payment scheme. Flat here means that he will pay contant amount each month for a *term* amount pf months."
   ]
  },
  {
   "cell_type": "markdown",
   "metadata": {},
   "source": [
    "First let's calculate monthly payment:"
   ]
  },
  {
   "cell_type": "code",
   "execution_count": 11,
   "metadata": {},
   "outputs": [],
   "source": [
    "def pmt(principal, annual_interest_rate, term, period='year'):\n",
    "    periodic_interest = convert_ir(annual_interest_rate, from_period='year', to_period=period)\n",
    "    payment = (principal*periodic_interest)/(1 - (1 + periodic_interest)**(-term))\n",
    "    return payment"
   ]
  },
  {
   "cell_type": "code",
   "execution_count": 12,
   "metadata": {},
   "outputs": [
    {
     "data": {
      "text/plain": [
       "2097.9579975832817"
      ]
     },
     "execution_count": 12,
     "metadata": {},
     "output_type": "execute_result"
    }
   ],
   "source": [
    "pmt(10000, 0.07, 6, period='year')"
   ]
  },
  {
   "cell_type": "code",
   "execution_count": 13,
   "metadata": {},
   "outputs": [
    {
     "data": {
      "text/plain": [
       "9.57859525723352"
      ]
     },
     "execution_count": 13,
     "metadata": {},
     "output_type": "execute_result"
    }
   ],
   "source": [
    "pmt(100, 0.3, 12, period='month')"
   ]
  },
  {
   "cell_type": "markdown",
   "metadata": {},
   "source": [
    "So he will be paying ~$9.6 each month. Now he wants to know how fast he's payin the interest and the principal. For that a loan table is used."
   ]
  },
  {
   "cell_type": "code",
   "execution_count": 89,
   "metadata": {},
   "outputs": [
    {
     "name": "stdout",
     "output_type": "stream",
     "text": [
      "defaultdict(<class 'list'>, {'year': [1, 2], 'principal at the beginning of year': [10000, 5238.095238095237], 'payment at the end of year': 5761.904761904764, 'interest': [1000.0000000000009, 523.8095238095241], 'return of principal': [4761.904761904763, 5238.09523809524]})\n"
     ]
    },
    {
     "data": {
      "text/html": [
       "<div>\n",
       "<style scoped>\n",
       "    .dataframe tbody tr th:only-of-type {\n",
       "        vertical-align: middle;\n",
       "    }\n",
       "\n",
       "    .dataframe tbody tr th {\n",
       "        vertical-align: top;\n",
       "    }\n",
       "\n",
       "    .dataframe thead th {\n",
       "        text-align: right;\n",
       "    }\n",
       "</style>\n",
       "<table border=\"1\" class=\"dataframe\">\n",
       "  <thead>\n",
       "    <tr style=\"text-align: right;\">\n",
       "      <th></th>\n",
       "      <th>year</th>\n",
       "      <th>principal at the beginning of year</th>\n",
       "      <th>payment at the end of year</th>\n",
       "      <th>interest</th>\n",
       "      <th>return of principal</th>\n",
       "    </tr>\n",
       "  </thead>\n",
       "  <tbody>\n",
       "    <tr>\n",
       "      <th>0</th>\n",
       "      <td>1</td>\n",
       "      <td>10000.000000</td>\n",
       "      <td>5761.904762</td>\n",
       "      <td>1000.000000</td>\n",
       "      <td>4761.904762</td>\n",
       "    </tr>\n",
       "    <tr>\n",
       "      <th>1</th>\n",
       "      <td>2</td>\n",
       "      <td>5238.095238</td>\n",
       "      <td>5761.904762</td>\n",
       "      <td>523.809524</td>\n",
       "      <td>5238.095238</td>\n",
       "    </tr>\n",
       "  </tbody>\n",
       "</table>\n",
       "</div>"
      ],
      "text/plain": [
       "   year  principal at the beginning of year  payment at the end of year  \\\n",
       "0     1                        10000.000000                 5761.904762   \n",
       "1     2                         5238.095238                 5761.904762   \n",
       "\n",
       "      interest  return of principal  \n",
       "0  1000.000000          4761.904762  \n",
       "1   523.809524          5238.095238  "
      ]
     },
     "execution_count": 89,
     "metadata": {},
     "output_type": "execute_result"
    }
   ],
   "source": [
    "from collections import defaultdict\n",
    "\n",
    "def flat_payments(principal, annual_interest_rate, term, period='year'):\n",
    "    _pmt = pmt(principal, annual_interest_rate, term, period=period)\n",
    "    data = defaultdict(list)\n",
    "    current_principal = principal\n",
    "    principal_col_name = 'principal at the beginning of {}'.format(period)\n",
    "    payment_col_name = 'payment at the end of {}'.format(period)\n",
    "    interest_col_name = 'interest'\n",
    "    return_principal_col_name = 'return of principal'\n",
    "    periodic_interest = convert_ir(annual_interest_rate, from_period='year', to_period=period)\n",
    "    for _t in range(1, term + 1):\n",
    "        data[period].append(_t)\n",
    "        data[principal_col_name].append(current_principal)\n",
    "        data[payment_col_name] = _pmt\n",
    "        current_interest = current_principal * periodic_interest\n",
    "        data[interest_col_name].append(current_interest)\n",
    "        current_return_of_principal = _pmt - current_interest\n",
    "        data[return_principal_col_name].append(current_return_of_principal)\n",
    "        current_principal -= current_return_of_principal  \n",
    "    assert round(current_principal) == 0\n",
    "    print(data)\n",
    "    return pd.DataFrame.from_dict(data)\n",
    "\n",
    "flat_payments(10000, 0.1, 2, period='year')"
   ]
  },
  {
   "cell_type": "code",
   "execution_count": 15,
   "metadata": {},
   "outputs": [
    {
     "data": {
      "text/html": [
       "<div>\n",
       "<style scoped>\n",
       "    .dataframe tbody tr th:only-of-type {\n",
       "        vertical-align: middle;\n",
       "    }\n",
       "\n",
       "    .dataframe tbody tr th {\n",
       "        vertical-align: top;\n",
       "    }\n",
       "\n",
       "    .dataframe thead th {\n",
       "        text-align: right;\n",
       "    }\n",
       "</style>\n",
       "<table border=\"1\" class=\"dataframe\">\n",
       "  <thead>\n",
       "    <tr style=\"text-align: right;\">\n",
       "      <th></th>\n",
       "      <th>month</th>\n",
       "      <th>principal at the beginning of month</th>\n",
       "      <th>payment at the end of month</th>\n",
       "      <th>interest</th>\n",
       "      <th>return of principal</th>\n",
       "    </tr>\n",
       "  </thead>\n",
       "  <tbody>\n",
       "    <tr>\n",
       "      <th>0</th>\n",
       "      <td>1</td>\n",
       "      <td>100.000000</td>\n",
       "      <td>9.578595</td>\n",
       "      <td>2.210445</td>\n",
       "      <td>7.368150</td>\n",
       "    </tr>\n",
       "    <tr>\n",
       "      <th>1</th>\n",
       "      <td>2</td>\n",
       "      <td>92.631850</td>\n",
       "      <td>9.578595</td>\n",
       "      <td>2.047576</td>\n",
       "      <td>7.531019</td>\n",
       "    </tr>\n",
       "    <tr>\n",
       "      <th>2</th>\n",
       "      <td>3</td>\n",
       "      <td>85.100831</td>\n",
       "      <td>9.578595</td>\n",
       "      <td>1.881107</td>\n",
       "      <td>7.697488</td>\n",
       "    </tr>\n",
       "    <tr>\n",
       "      <th>3</th>\n",
       "      <td>4</td>\n",
       "      <td>77.403343</td>\n",
       "      <td>9.578595</td>\n",
       "      <td>1.710958</td>\n",
       "      <td>7.867637</td>\n",
       "    </tr>\n",
       "    <tr>\n",
       "      <th>4</th>\n",
       "      <td>5</td>\n",
       "      <td>69.535706</td>\n",
       "      <td>9.578595</td>\n",
       "      <td>1.537049</td>\n",
       "      <td>8.041547</td>\n",
       "    </tr>\n",
       "    <tr>\n",
       "      <th>5</th>\n",
       "      <td>6</td>\n",
       "      <td>61.494159</td>\n",
       "      <td>9.578595</td>\n",
       "      <td>1.359295</td>\n",
       "      <td>8.219301</td>\n",
       "    </tr>\n",
       "    <tr>\n",
       "      <th>6</th>\n",
       "      <td>7</td>\n",
       "      <td>53.274858</td>\n",
       "      <td>9.578595</td>\n",
       "      <td>1.177611</td>\n",
       "      <td>8.400984</td>\n",
       "    </tr>\n",
       "    <tr>\n",
       "      <th>7</th>\n",
       "      <td>8</td>\n",
       "      <td>44.873875</td>\n",
       "      <td>9.578595</td>\n",
       "      <td>0.991912</td>\n",
       "      <td>8.586683</td>\n",
       "    </tr>\n",
       "    <tr>\n",
       "      <th>8</th>\n",
       "      <td>9</td>\n",
       "      <td>36.287192</td>\n",
       "      <td>9.578595</td>\n",
       "      <td>0.802108</td>\n",
       "      <td>8.776487</td>\n",
       "    </tr>\n",
       "    <tr>\n",
       "      <th>9</th>\n",
       "      <td>10</td>\n",
       "      <td>27.510705</td>\n",
       "      <td>9.578595</td>\n",
       "      <td>0.608109</td>\n",
       "      <td>8.970486</td>\n",
       "    </tr>\n",
       "    <tr>\n",
       "      <th>10</th>\n",
       "      <td>11</td>\n",
       "      <td>18.540219</td>\n",
       "      <td>9.578595</td>\n",
       "      <td>0.409821</td>\n",
       "      <td>9.168774</td>\n",
       "    </tr>\n",
       "    <tr>\n",
       "      <th>11</th>\n",
       "      <td>12</td>\n",
       "      <td>9.371445</td>\n",
       "      <td>9.578595</td>\n",
       "      <td>0.207151</td>\n",
       "      <td>9.371445</td>\n",
       "    </tr>\n",
       "  </tbody>\n",
       "</table>\n",
       "</div>"
      ],
      "text/plain": [
       "    month  principal at the beginning of month  payment at the end of month  \\\n",
       "0       1                           100.000000                     9.578595   \n",
       "1       2                            92.631850                     9.578595   \n",
       "2       3                            85.100831                     9.578595   \n",
       "3       4                            77.403343                     9.578595   \n",
       "4       5                            69.535706                     9.578595   \n",
       "5       6                            61.494159                     9.578595   \n",
       "6       7                            53.274858                     9.578595   \n",
       "7       8                            44.873875                     9.578595   \n",
       "8       9                            36.287192                     9.578595   \n",
       "9      10                            27.510705                     9.578595   \n",
       "10     11                            18.540219                     9.578595   \n",
       "11     12                             9.371445                     9.578595   \n",
       "\n",
       "    interest  return of principal  \n",
       "0   2.210445             7.368150  \n",
       "1   2.047576             7.531019  \n",
       "2   1.881107             7.697488  \n",
       "3   1.710958             7.867637  \n",
       "4   1.537049             8.041547  \n",
       "5   1.359295             8.219301  \n",
       "6   1.177611             8.400984  \n",
       "7   0.991912             8.586683  \n",
       "8   0.802108             8.776487  \n",
       "9   0.608109             8.970486  \n",
       "10  0.409821             9.168774  \n",
       "11  0.207151             9.371445  "
      ]
     },
     "execution_count": 15,
     "metadata": {},
     "output_type": "execute_result"
    }
   ],
   "source": [
    "flat_payments(100, 0.3, 12, period='month')"
   ]
  },
  {
   "cell_type": "markdown",
   "metadata": {},
   "source": [
    "Last two columns - *interest* and *return of principal* - show how the payment is split between repaying interest and principal. At the end principal value should be 0 (see assert in function code). It's interesting to know how much interest is repayed because that amount sometimes is tax deductable."
   ]
  },
  {
   "cell_type": "markdown",
   "metadata": {},
   "source": [
    "## Future value"
   ]
  },
  {
   "cell_type": "markdown",
   "metadata": {},
   "source": [
    "Let's imagine we put \\$10000 today for 10 years with annual interest rate 10%. How much money we will have in 10 years? Using this formula with r=0.1 ant t=1- will give us \\$2593.74\n",
    "    ![npv](http://www.sciweavers.org/tex2img.php?eq=%7BDeposit%7D%2A%7B%281%20%2B%20r%29%5E%7Bt%7D%20%7D%20&bc=White&fc=Black&im=jpg&fs=12&ff=arev&edit=0)\n",
    "    \n",
    "Slightly more complex problem if we want to deposit some money during this 10 years. *Future value* will tell how much money we'll have in the end of the period."
   ]
  },
  {
   "cell_type": "code",
   "execution_count": 16,
   "metadata": {},
   "outputs": [
    {
     "data": {
      "text/plain": [
       "17531.16706110001"
      ]
     },
     "execution_count": 16,
     "metadata": {},
     "output_type": "execute_result"
    }
   ],
   "source": [
    "def fv(deposits, annual_interest_rate, period='year'):\n",
    "    periodic_interest = convert_ir(annual_interest_rate, from_period='year', to_period=period)\n",
    "    future_value = 0\n",
    "    number_of_deposits = len(deposits)\n",
    "    for n, deposit in enumerate(deposits):\n",
    "        future_value += deposit * (1 + periodic_interest)**(number_of_deposits - n)\n",
    "    return future_value\n",
    "fv([1000 for _ in range(10)], 0.1, period='year')"
   ]
  },
  {
   "cell_type": "markdown",
   "metadata": {},
   "source": [
    "## Retirement problem\n",
    "Consider a following exersize. Now I'm 31 and planning to retire at 55 (24 more years working). After retiring I'm planning to live at least 25 more years and will need, say, \\$50000 a year. To support my retirement I need to deposit money into bank account with know interest rate (say 5%). What's the minimum amount do I need to deposit each year?\n",
    "\n",
    "This problem implies a number of cash flows: 24 terms with CF=*x* at each time, and 25 terms with CF=-50000. Present value of this cash flows should be 0. Solving this equation for *x* will give the minimum annual deposit. Minimum deposit is used here not in mathematical sence, but more in common sence - I'll live more that 25 years after retirement, prices are also going up so I'll need more that 50k yearly.\n"
   ]
  },
  {
   "cell_type": "code",
   "execution_count": 48,
   "metadata": {},
   "outputs": [
    {
     "data": {
      "text/plain": [
       "[15822.327630785972]"
      ]
     },
     "execution_count": 48,
     "metadata": {},
     "output_type": "execute_result"
    }
   ],
   "source": [
    "from functools import partial\n",
    "def get_retirement_cf_dataframe(deposit, terms_of_deposit, withdrawal, terms_of_withdrawal, period='year'):\n",
    "    cash_flows = [deposit]*terms_of_deposit + [-withdrawal]*terms_of_withdrawal\n",
    "    terms = terms_of_deposit + terms_of_withdrawal\n",
    "    dates = [date.today() + relativedelta(**{period + 's':i}) for i in range(terms)]\n",
    "    df = pd.DataFrame(data={'cash flow': cash_flows, 'date': dates})\n",
    "    return df\n",
    "\n",
    "\n",
    "def retirement_problem(terms_of_deposit, withdrawal, terms_of_withdrawal, annual_discount_rate, period='year'):\n",
    "    retirement_dataframe_by_deposit = partial(get_retirement_cf_dataframe, \n",
    "                                              terms_of_deposit=terms_of_deposit, \n",
    "                                              withdrawal=withdrawal, \n",
    "                                              terms_of_withdrawal=terms_of_withdrawal, \n",
    "                                              period=period)\n",
    "    f = lambda deposit: npv(retirement_dataframe_by_deposit(deposit), annual_discount_rate)\n",
    "    result = fsolve(f, withdrawal)\n",
    "    return list(result)\n",
    "\n",
    "retirement_problem(24, 50000, 25, 0.05)"
   ]
  },
  {
   "cell_type": "markdown",
   "metadata": {},
   "source": [
    "## Countinous compounding\n",
    "I'm using `convert_ir(r, from_period='year', to_period='day')` function to convert from annual interest rate to daily interest rate in some examples above.\n",
    "So if I have annual rate of 20%, quaterly rate is:"
   ]
  },
  {
   "cell_type": "code",
   "execution_count": 49,
   "metadata": {},
   "outputs": [
    {
     "data": {
      "text/plain": [
       "0.04663513939210562"
      ]
     },
     "execution_count": 49,
     "metadata": {},
     "output_type": "execute_result"
    }
   ],
   "source": [
    "convert_ir(0.2, from_period='year', to_period='quater')"
   ]
  },
  {
   "cell_type": "markdown",
   "metadata": {},
   "source": [
    "And respective annual is:"
   ]
  },
  {
   "cell_type": "code",
   "execution_count": 54,
   "metadata": {},
   "outputs": [
    {
     "data": {
      "text/plain": [
       "(0.18654055756842247, 0.1908902300206643)"
      ]
     },
     "execution_count": 54,
     "metadata": {},
     "output_type": "execute_result"
    }
   ],
   "source": [
    "4 * convert_ir(0.2, from_period='year', to_period='quater'),  2*((1 + 0.2)**(1/2) - 1)"
   ]
  },
  {
   "cell_type": "markdown",
   "metadata": {},
   "source": [
    "So if a bank offers 20% annual interest rate paid quaterly the effective annual interest rate is 18.6%. if the number of interest payments increaces - for example to every millisecond. This is continuous compounding. Let's calcualte annual interest rate continously compounded given intial and end anounts."
   ]
  },
  {
   "cell_type": "code",
   "execution_count": 76,
   "metadata": {},
   "outputs": [
    {
     "data": {
      "text/html": [
       "<div>\n",
       "<style scoped>\n",
       "    .dataframe tbody tr th:only-of-type {\n",
       "        vertical-align: middle;\n",
       "    }\n",
       "\n",
       "    .dataframe tbody tr th {\n",
       "        vertical-align: top;\n",
       "    }\n",
       "\n",
       "    .dataframe thead th {\n",
       "        text-align: right;\n",
       "    }\n",
       "</style>\n",
       "<table border=\"1\" class=\"dataframe\">\n",
       "  <thead>\n",
       "    <tr style=\"text-align: right;\">\n",
       "      <th></th>\n",
       "      <th>amount</th>\n",
       "      <th>date</th>\n",
       "    </tr>\n",
       "  </thead>\n",
       "  <tbody>\n",
       "    <tr>\n",
       "      <th>0</th>\n",
       "      <td>1000</td>\n",
       "      <td>2018-12-13</td>\n",
       "    </tr>\n",
       "    <tr>\n",
       "      <th>1</th>\n",
       "      <td>1500</td>\n",
       "      <td>2020-09-13</td>\n",
       "    </tr>\n",
       "  </tbody>\n",
       "</table>\n",
       "</div>"
      ],
      "text/plain": [
       "   amount        date\n",
       "0    1000  2018-12-13\n",
       "1    1500  2020-09-13"
      ]
     },
     "execution_count": 76,
     "metadata": {},
     "output_type": "execute_result"
    }
   ],
   "source": [
    "df = pd.DataFrame(data={'amount': [1000, 1500], 'date': [date.today(), date.today() + relativedelta(years=1, months=9)]})\n",
    "df"
   ]
  },
  {
   "cell_type": "code",
   "execution_count": 81,
   "metadata": {},
   "outputs": [
    {
     "name": "stdout",
     "output_type": "stream",
     "text": [
      "Help on class relativedelta in module dateutil.relativedelta:\n",
      "\n",
      "class relativedelta(builtins.object)\n",
      " |  The relativedelta type is based on the specification of the excellent\n",
      " |  work done by M.-A. Lemburg in his\n",
      " |  `mx.DateTime <https://www.egenix.com/products/python/mxBase/mxDateTime/>`_ extension.\n",
      " |  However, notice that this type does *NOT* implement the same algorithm as\n",
      " |  his work. Do *NOT* expect it to behave like mx.DateTime's counterpart.\n",
      " |  \n",
      " |  There are two different ways to build a relativedelta instance. The\n",
      " |  first one is passing it two date/datetime classes::\n",
      " |  \n",
      " |      relativedelta(datetime1, datetime2)\n",
      " |  \n",
      " |  The second one is passing it any number of the following keyword arguments::\n",
      " |  \n",
      " |      relativedelta(arg1=x,arg2=y,arg3=z...)\n",
      " |  \n",
      " |      year, month, day, hour, minute, second, microsecond:\n",
      " |          Absolute information (argument is singular); adding or subtracting a\n",
      " |          relativedelta with absolute information does not perform an arithmetic\n",
      " |          operation, but rather REPLACES the corresponding value in the\n",
      " |          original datetime with the value(s) in relativedelta.\n",
      " |  \n",
      " |      years, months, weeks, days, hours, minutes, seconds, microseconds:\n",
      " |          Relative information, may be negative (argument is plural); adding\n",
      " |          or subtracting a relativedelta with relative information performs\n",
      " |          the corresponding aritmetic operation on the original datetime value\n",
      " |          with the information in the relativedelta.\n",
      " |  \n",
      " |      weekday: \n",
      " |          One of the weekday instances (MO, TU, etc). These\n",
      " |          instances may receive a parameter N, specifying the Nth\n",
      " |          weekday, which could be positive or negative (like MO(+1)\n",
      " |          or MO(-2). Not specifying it is the same as specifying\n",
      " |          +1. You can also use an integer, where 0=MO. Notice that\n",
      " |          if the calculated date is already Monday, for example,\n",
      " |          using MO(1) or MO(-1) won't change the day.\n",
      " |  \n",
      " |      leapdays:\n",
      " |          Will add given days to the date found, if year is a leap\n",
      " |          year, and the date found is post 28 of february.\n",
      " |  \n",
      " |      yearday, nlyearday:\n",
      " |          Set the yearday or the non-leap year day (jump leap days).\n",
      " |          These are converted to day/month/leapdays information.\n",
      " |  \n",
      " |  There are relative and absolute forms of the keyword\n",
      " |  arguments. The plural is relative, and the singular is\n",
      " |  absolute. For each argument in the order below, the absolute form\n",
      " |  is applied first (by setting each attribute to that value) and\n",
      " |  then the relative form (by adding the value to the attribute).\n",
      " |  \n",
      " |  The order of attributes considered when this relativedelta is\n",
      " |  added to a datetime is:\n",
      " |  \n",
      " |  1. Year\n",
      " |  2. Month\n",
      " |  3. Day\n",
      " |  4. Hours\n",
      " |  5. Minutes\n",
      " |  6. Seconds\n",
      " |  7. Microseconds\n",
      " |  \n",
      " |  Finally, weekday is applied, using the rule described above.\n",
      " |  \n",
      " |  For example\n",
      " |  \n",
      " |  >>> dt = datetime(2018, 4, 9, 13, 37, 0)\n",
      " |  >>> delta = relativedelta(hours=25, day=1, weekday=MO(1))\n",
      " |  datetime(2018, 4, 2, 14, 37, 0)\n",
      " |  \n",
      " |  First, the day is set to 1 (the first of the month), then 25 hours\n",
      " |  are added, to get to the 2nd day and 14th hour, finally the\n",
      " |  weekday is applied, but since the 2nd is already a Monday there is\n",
      " |  no effect.\n",
      " |  \n",
      " |  Methods defined here:\n",
      " |  \n",
      " |  __abs__(self)\n",
      " |  \n",
      " |  __add__(self, other)\n",
      " |  \n",
      " |  __bool__(self)\n",
      " |  \n",
      " |  __div__(self, other)\n",
      " |  \n",
      " |  __eq__(self, other)\n",
      " |      Return self==value.\n",
      " |  \n",
      " |  __hash__(self)\n",
      " |      Return hash(self).\n",
      " |  \n",
      " |  __init__(self, dt1=None, dt2=None, years=0, months=0, days=0, leapdays=0, weeks=0, hours=0, minutes=0, seconds=0, microseconds=0, year=None, month=None, day=None, weekday=None, yearday=None, nlyearday=None, hour=None, minute=None, second=None, microsecond=None)\n",
      " |      Initialize self.  See help(type(self)) for accurate signature.\n",
      " |  \n",
      " |  __mul__(self, other)\n",
      " |  \n",
      " |  __ne__(self, other)\n",
      " |      Return self!=value.\n",
      " |  \n",
      " |  __neg__(self)\n",
      " |  \n",
      " |  __nonzero__ = __bool__(self)\n",
      " |  \n",
      " |  __radd__(self, other)\n",
      " |  \n",
      " |  __repr__(self)\n",
      " |      Return repr(self).\n",
      " |  \n",
      " |  __rmul__ = __mul__(self, other)\n",
      " |  \n",
      " |  __rsub__(self, other)\n",
      " |  \n",
      " |  __sub__(self, other)\n",
      " |  \n",
      " |  __truediv__ = __div__(self, other)\n",
      " |  \n",
      " |  normalized(self)\n",
      " |      Return a version of this object represented entirely using integer\n",
      " |      values for the relative attributes.\n",
      " |      \n",
      " |      >>> relativedelta(days=1.5, hours=2).normalized()\n",
      " |      relativedelta(days=1, hours=14)\n",
      " |      \n",
      " |      :return:\n",
      " |          Returns a :class:`dateutil.relativedelta.relativedelta` object.\n",
      " |  \n",
      " |  ----------------------------------------------------------------------\n",
      " |  Data descriptors defined here:\n",
      " |  \n",
      " |  __dict__\n",
      " |      dictionary for instance variables (if defined)\n",
      " |  \n",
      " |  __weakref__\n",
      " |      list of weak references to the object (if defined)\n",
      " |  \n",
      " |  weeks\n",
      "\n"
     ]
    }
   ],
   "source": [
    "from math import log\n",
    "help(relativedelta)"
   ]
  },
  {
   "cell_type": "code",
   "execution_count": 85,
   "metadata": {},
   "outputs": [
    {
     "data": {
      "text/plain": [
       "0.23169434749037965"
      ]
     },
     "execution_count": 85,
     "metadata": {},
     "output_type": "execute_result"
    }
   ],
   "source": [
    "def get_annual_rate_cc(dataframe, amount_column_name='amount', date_column_name='date'):\n",
    "    amount_first = dataframe[amount_column_name].iloc[0]\n",
    "    amount_last = dataframe[amount_column_name].iloc[-1]\n",
    "    date_first = dataframe[date_column_name].iloc[0]\n",
    "    date_last = dataframe[date_column_name].iloc[-1]\n",
    "    delta = relativedelta(date_last, date_first)\n",
    "    t = delta.years + delta.months/12 + delta.days/365\n",
    "    r = log(amount_last/amount_first)/t\n",
    "    return r\n",
    "get_annual_rate_cc(df)"
   ]
  }
 ],
 "metadata": {
  "kernelspec": {
   "display_name": "Python 3",
   "language": "python",
   "name": "python3"
  },
  "language_info": {
   "codemirror_mode": {
    "name": "ipython",
    "version": 3
   },
   "file_extension": ".py",
   "mimetype": "text/x-python",
   "name": "python",
   "nbconvert_exporter": "python",
   "pygments_lexer": "ipython3",
   "version": "3.6.3"
  }
 },
 "nbformat": 4,
 "nbformat_minor": 2
}
